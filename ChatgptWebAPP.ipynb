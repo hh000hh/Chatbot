{
  "nbformat": 4,
  "nbformat_minor": 0,
  "metadata": {
    "colab": {
      "provenance": [],
      "toc_visible": true,
      "mount_file_id": "1-EdW-aMmvonzYysen22DRUoCCZBbG85-",
      "authorship_tag": "ABX9TyOd0szURQHvX9SbbnjgjKMW",
      "include_colab_link": true
    },
    "kernelspec": {
      "name": "python3",
      "display_name": "Python 3"
    },
    "language_info": {
      "name": "python"
    }
  },
  "cells": [
    {
      "cell_type": "markdown",
      "metadata": {
        "id": "view-in-github",
        "colab_type": "text"
      },
      "source": [
        "<a href=\"https://colab.research.google.com/github/hh000hh/Chatbot/blob/main/ChatgptWebAPP.ipynb\" target=\"_parent\"><img src=\"https://colab.research.google.com/assets/colab-badge.svg\" alt=\"Open In Colab\"/></a>"
      ]
    },
    {
      "cell_type": "code",
      "source": [
        "!pip install --upgrade openai\n",
        "\n",
        "import os\n",
        "import openai\n",
        "\n",
        "# Set the environment variable\n",
        "os.environ['OPENAI_API_KEY'] = 'Your Key'\n",
        "\n",
        "def chatGPTweb(prompt: str) -> str | None:\n",
        "    client = openai.Client()\n",
        "    text: str | None = None\n",
        "    choices = None\n",
        "    try:\n",
        "        response: Any = client.completions.create(\n",
        "            model=\"gpt-3.5-turbo-instruct\",\n",
        "            prompt=prompt,\n",
        "            temperature=0.7,\n",
        "            max_tokens=500,\n",
        "            top_p=1,\n",
        "        )\n",
        "        # print(response)\n",
        "        choices: Any = response.choices[0]\n",
        "        text = choices.text\n",
        "        print(response.usage.model_dump())\n",
        "    except Exception as e:\n",
        "        print('ERROR:', e)\n",
        "    return text\n",
        "\n",
        "if __name__ == \"__main__\":\n",
        "    print(chatGPTweb(input(\"prompt>\")))"
      ],
      "metadata": {
        "id": "JixEtIgPIEpY"
      },
      "execution_count": null,
      "outputs": []
    },
    {
      "cell_type": "code",
      "source": [
        "!pip install gradio\n"
      ],
      "metadata": {
        "collapsed": true,
        "id": "h57P7sTmRL-W"
      },
      "execution_count": null,
      "outputs": []
    },
    {
      "cell_type": "code",
      "source": [
        "import gradio as gr\n",
        "gui=gr.Interface(fn=chatGPTweb, inputs=\"text\", outputs=\"text\")\n",
        "gui.launch(share=True)"
      ],
      "metadata": {
        "collapsed": true,
        "id": "pLyE_ochRgJ9"
      },
      "execution_count": null,
      "outputs": []
    }
  ]
}